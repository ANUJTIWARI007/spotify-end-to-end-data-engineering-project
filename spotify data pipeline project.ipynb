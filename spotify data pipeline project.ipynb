{
 "cells": [
  {
   "cell_type": "code",
   "execution_count": 2,
   "id": "fd0d9eac-251a-4275-852c-ed175ff23939",
   "metadata": {},
   "outputs": [
    {
     "name": "stdout",
     "output_type": "stream",
     "text": [
      "Collecting spotipy\n",
      "  Downloading spotipy-2.25.1-py3-none-any.whl.metadata (5.1 kB)\n",
      "Collecting redis>=3.5.3 (from spotipy)\n",
      "  Downloading redis-6.2.0-py3-none-any.whl.metadata (10 kB)\n",
      "Requirement already satisfied: requests>=2.25.0 in c:\\users\\91888\\appdata\\local\\programs\\python\\python313\\lib\\site-packages (from spotipy) (2.32.3)\n",
      "Requirement already satisfied: urllib3>=1.26.0 in c:\\users\\91888\\appdata\\local\\programs\\python\\python313\\lib\\site-packages (from spotipy) (2.2.3)\n",
      "Requirement already satisfied: charset-normalizer<4,>=2 in c:\\users\\91888\\appdata\\local\\programs\\python\\python313\\lib\\site-packages (from requests>=2.25.0->spotipy) (3.4.0)\n",
      "Requirement already satisfied: idna<4,>=2.5 in c:\\users\\91888\\appdata\\local\\programs\\python\\python313\\lib\\site-packages (from requests>=2.25.0->spotipy) (3.10)\n",
      "Requirement already satisfied: certifi>=2017.4.17 in c:\\users\\91888\\appdata\\local\\programs\\python\\python313\\lib\\site-packages (from requests>=2.25.0->spotipy) (2024.12.14)\n",
      "Downloading spotipy-2.25.1-py3-none-any.whl (31 kB)\n",
      "Downloading redis-6.2.0-py3-none-any.whl (278 kB)\n",
      "Installing collected packages: redis, spotipy\n",
      "Successfully installed redis-6.2.0 spotipy-2.25.1\n"
     ]
    },
    {
     "name": "stderr",
     "output_type": "stream",
     "text": [
      "\n",
      "[notice] A new release of pip is available: 24.3.1 -> 25.1.1\n",
      "[notice] To update, run: python.exe -m pip install --upgrade pip\n"
     ]
    }
   ],
   "source": [
    "!pip install spotipy"
   ]
  },
  {
   "cell_type": "code",
   "execution_count": 101,
   "id": "95dd4063-b2bf-49e5-a41b-72ff9a7fcd48",
   "metadata": {},
   "outputs": [],
   "source": [
    "import spotipy\n",
    "from spotipy.oauth2 import SpotifyClientCredentials \n",
    "import pandas as pd\n"
   ]
  },
  {
   "cell_type": "code",
   "execution_count": 102,
   "id": "11635c86-3fb0-44d8-9699-2d661af82364",
   "metadata": {},
   "outputs": [],
   "source": [
    "client_credential_manager = SpotifyClientCredentials(client_id = \"efd469c8f4de44658ac32027a5c08167\" , client_secret = \"0387fa2c3f334c6491256912e4ab27f0\")"
   ]
  },
  {
   "cell_type": "code",
   "execution_count": 103,
   "id": "638bc962-4713-478b-8586-43987eaa3907",
   "metadata": {},
   "outputs": [],
   "source": [
    "sp = spotipy.Spotify(client_credentials_manager = client_credential_manager)"
   ]
  },
  {
   "cell_type": "code",
   "execution_count": 104,
   "id": "f5505334-4b67-431a-b0f2-8eff623bf7ac",
   "metadata": {},
   "outputs": [],
   "source": [
    "playlist_link = \"https://open.spotify.com/playlist/6VOedaf3eNWDOVpa9Qdlvg?si=sU-uTK_cRnegQ6xiYpB7kg\""
   ]
  },
  {
   "cell_type": "code",
   "execution_count": 105,
   "id": "ebce5f35-4bf3-4ade-bda3-998417be245a",
   "metadata": {},
   "outputs": [
    {
     "data": {
      "text/plain": [
       "'6VOedaf3eNWDOVpa9Qdlvg'"
      ]
     },
     "execution_count": 105,
     "metadata": {},
     "output_type": "execute_result"
    }
   ],
   "source": [
    "playlist_uri = playlist_link.split(\"/\")[-1].split(\"?\")[0]\n",
    "playlist_uri"
   ]
  },
  {
   "cell_type": "code",
   "execution_count": 37,
   "id": "f2b98f35-c63b-4d9b-9d09-62101293000e",
   "metadata": {},
   "outputs": [],
   "source": [
    "data = sp.playlist_tracks(playlist_uri)"
   ]
  },
  {
   "cell_type": "code",
   "execution_count": 46,
   "id": "da62c25c-a717-4f88-9544-5c3f7082831e",
   "metadata": {},
   "outputs": [
    {
     "data": {
      "text/plain": [
       "'6xUYw5goKIoyJQi9C27UBy'"
      ]
     },
     "execution_count": 46,
     "metadata": {},
     "output_type": "execute_result"
    }
   ],
   "source": [
    "data[\"items\"][0][\"track\"][\"album\"][\"id\"]\n"
   ]
  },
  {
   "cell_type": "code",
   "execution_count": 45,
   "id": "422c3d2a-3ed6-4a46-ab10-1bcc8099377c",
   "metadata": {},
   "outputs": [
    {
     "data": {
      "text/plain": [
       "'NUNCA MUDA?'"
      ]
     },
     "execution_count": 45,
     "metadata": {},
     "output_type": "execute_result"
    }
   ],
   "source": [
    "data[\"items\"][0][\"track\"][\"album\"][\"name\"]"
   ]
  },
  {
   "cell_type": "code",
   "execution_count": 48,
   "id": "024d3267-d04c-413c-90a3-5898c82032d3",
   "metadata": {},
   "outputs": [
    {
     "data": {
      "text/plain": [
       "'2025-01-09'"
      ]
     },
     "execution_count": 48,
     "metadata": {},
     "output_type": "execute_result"
    }
   ],
   "source": [
    "data[\"items\"][0][\"track\"][\"album\"][\"release_date\"]"
   ]
  },
  {
   "cell_type": "code",
   "execution_count": 51,
   "id": "4973b80b-2b73-4675-a11b-589a5f9ed526",
   "metadata": {},
   "outputs": [
    {
     "data": {
      "text/plain": [
       "6"
      ]
     },
     "execution_count": 51,
     "metadata": {},
     "output_type": "execute_result"
    }
   ],
   "source": [
    "data[\"items\"][0][\"track\"][\"album\"][\"total_tracks\"]"
   ]
  },
  {
   "cell_type": "code",
   "execution_count": 53,
   "id": "5168692c-61cc-49e5-a17f-97bd02ad5ad1",
   "metadata": {},
   "outputs": [
    {
     "data": {
      "text/plain": [
       "{'spotify': 'https://open.spotify.com/album/6xUYw5goKIoyJQi9C27UBy'}"
      ]
     },
     "execution_count": 53,
     "metadata": {},
     "output_type": "execute_result"
    }
   ],
   "source": [
    "data[\"items\"][0][\"track\"][\"album\"][\"external_urls\"]\n"
   ]
  },
  {
   "cell_type": "code",
   "execution_count": 60,
   "id": "2311f566-e00d-4f65-be08-cdd74b56f279",
   "metadata": {},
   "outputs": [],
   "source": [
    "albumlist = []\n",
    "for row in data[\"items\"]:\n",
    "    \n",
    "    album_id = row[\"track\"][\"album\"][\"id\"]\n",
    "    album_name =  row[\"track\"][\"album\"][\"name\"]\n",
    "    album_release_date= row[\"track\"][\"album\"][\"release_date\"]\n",
    "    album_total_tracks =  row[\"track\"][\"album\"][\"total_tracks\"]\n",
    "    album_external_urls = row[\"track\"][\"album\"][\"external_urls\"][\"spotify\"]\n",
    "    \n",
    "    album_element = {\"album_id\" : album_id,\"album_name\" : album_name , \"album_release_date\" : album_release_date, \"album_total_tracks\" : album_total_tracks,\n",
    "                    \"album_external_urls\" : album_external_urls}\n",
    "    # print(album_element)\n",
    "    albumlist.append(album_element)\n",
    "    "
   ]
  },
  {
   "cell_type": "code",
   "execution_count": 83,
   "id": "6b716906-84f4-4bbb-bdc6-1819d7e6d200",
   "metadata": {},
   "outputs": [
    {
     "ename": "SyntaxError",
     "evalue": "invalid syntax (3868334141.py, line 1)",
     "output_type": "error",
     "traceback": [
      "\u001b[1;36m  Cell \u001b[1;32mIn[83], line 1\u001b[1;36m\u001b[0m\n\u001b[1;33m    albumlist/\u001b[0m\n\u001b[1;37m              ^\u001b[0m\n\u001b[1;31mSyntaxError\u001b[0m\u001b[1;31m:\u001b[0m invalid syntax\n"
     ]
    }
   ],
   "source": [
    "albumlist"
   ]
  },
  {
   "cell_type": "code",
   "execution_count": 63,
   "id": "2d08d87f-5463-454d-b1d5-c31848ddf837",
   "metadata": {},
   "outputs": [
    {
     "data": {
      "text/plain": [
       "[{'external_urls': {'spotify': 'https://open.spotify.com/artist/5dDNNq04RjKXFOADdHd6VX'},\n",
       "  'href': 'https://api.spotify.com/v1/artists/5dDNNq04RjKXFOADdHd6VX',\n",
       "  'id': '5dDNNq04RjKXFOADdHd6VX',\n",
       "  'name': 'Scythermane',\n",
       "  'type': 'artist',\n",
       "  'uri': 'spotify:artist:5dDNNq04RjKXFOADdHd6VX'},\n",
       " {'external_urls': {'spotify': 'https://open.spotify.com/artist/7lAaAGxYxk2GH8cMbTEwAL'},\n",
       "  'href': 'https://api.spotify.com/v1/artists/7lAaAGxYxk2GH8cMbTEwAL',\n",
       "  'id': '7lAaAGxYxk2GH8cMbTEwAL',\n",
       "  'name': 'NXGHT!',\n",
       "  'type': 'artist',\n",
       "  'uri': 'spotify:artist:7lAaAGxYxk2GH8cMbTEwAL'},\n",
       " {'external_urls': {'spotify': 'https://open.spotify.com/artist/14hsjenLEdvafsGkk2CEiF'},\n",
       "  'href': 'https://api.spotify.com/v1/artists/14hsjenLEdvafsGkk2CEiF',\n",
       "  'id': '14hsjenLEdvafsGkk2CEiF',\n",
       "  'name': 'MC Fabinho da Osk',\n",
       "  'type': 'artist',\n",
       "  'uri': 'spotify:artist:14hsjenLEdvafsGkk2CEiF'}]"
      ]
     },
     "execution_count": 63,
     "metadata": {},
     "output_type": "execute_result"
    }
   ],
   "source": [
    "data[\"items\"][0][\"track\"][\"album\"][\"artists\"]\n"
   ]
  },
  {
   "cell_type": "code",
   "execution_count": 73,
   "id": "7159a438-7c26-46e4-939b-0fc547bb7967",
   "metadata": {},
   "outputs": [],
   "source": [
    "artist_list = []\n",
    "for row in data[\"items\"]:\n",
    "    for key , value in row.items():\n",
    "        if key == \"track\":\n",
    "            for artist in value['artists']:\n",
    "                artist_dict = {'artist_id' : artist['id'] , 'artist_name': artist['name'] , 'external_url' : artist['href']}\n",
    "                artist_list.append(artist_dict)\n",
    "        "
   ]
  },
  {
   "cell_type": "code",
   "execution_count": 92,
   "id": "bcdeb690-76bf-4687-acf5-8d71c9886064",
   "metadata": {},
   "outputs": [
    {
     "ename": "SyntaxError",
     "evalue": "invalid syntax (897509939.py, line 1)",
     "output_type": "error",
     "traceback": [
      "\u001b[1;36m  Cell \u001b[1;32mIn[92], line 1\u001b[1;36m\u001b[0m\n\u001b[1;33m    artist_list/\u001b[0m\n\u001b[1;37m                ^\u001b[0m\n\u001b[1;31mSyntaxError\u001b[0m\u001b[1;31m:\u001b[0m invalid syntax\n"
     ]
    }
   ],
   "source": [
    "artist_list"
   ]
  },
  {
   "cell_type": "code",
   "execution_count": 80,
   "id": "79e38e1a-9d6f-41e5-9aa0-86b7eed53edd",
   "metadata": {},
   "outputs": [],
   "source": [
    "song_list = []\n",
    "for row in data['items']:\n",
    "    song_id = row['track']['id']\n",
    "    song_name = row['track']['name']\n",
    "    song_duration = row['track']['duration_ms']\n",
    "    song_url = row['track']['external_urls']['spotify']\n",
    "    song_popularity = row['track']['popularity']\n",
    "    song_added = row['added_at']\n",
    "    album_id = row['track']['album']['id']\n",
    "    artist_id = row['track']['album']['artists'][0]['id']\n",
    "    song_element = {'song_id' : song_id , 'song_name' : song_name  , 'song_duration' : song_duration , 'song_url' : song_url , 'song_popularity' : song_popularity, 'song_added' : song_added , 'album_id' : album_id , 'artist_id' : artist_id}\n",
    "    song_list.append(song_element)"
   ]
  },
  {
   "cell_type": "code",
   "execution_count": 85,
   "id": "7e089d8b-7b95-4757-8704-44f18c0efa30",
   "metadata": {},
   "outputs": [],
   "source": [
    "album_df  = pd.DataFrame.from_dict(albumlist)"
   ]
  },
  {
   "cell_type": "code",
   "execution_count": 86,
   "id": "7ac53a22-2305-4d91-a077-561cfcff723a",
   "metadata": {},
   "outputs": [
    {
     "data": {
      "text/html": [
       "<div>\n",
       "<style scoped>\n",
       "    .dataframe tbody tr th:only-of-type {\n",
       "        vertical-align: middle;\n",
       "    }\n",
       "\n",
       "    .dataframe tbody tr th {\n",
       "        vertical-align: top;\n",
       "    }\n",
       "\n",
       "    .dataframe thead th {\n",
       "        text-align: right;\n",
       "    }\n",
       "</style>\n",
       "<table border=\"1\" class=\"dataframe\">\n",
       "  <thead>\n",
       "    <tr style=\"text-align: right;\">\n",
       "      <th></th>\n",
       "      <th>album_id</th>\n",
       "      <th>album_name</th>\n",
       "      <th>album_release_date</th>\n",
       "      <th>album_total_tracks</th>\n",
       "      <th>album_external_urls</th>\n",
       "    </tr>\n",
       "  </thead>\n",
       "  <tbody>\n",
       "    <tr>\n",
       "      <th>0</th>\n",
       "      <td>6xUYw5goKIoyJQi9C27UBy</td>\n",
       "      <td>NUNCA MUDA?</td>\n",
       "      <td>2025-01-09</td>\n",
       "      <td>6</td>\n",
       "      <td>https://open.spotify.com/album/6xUYw5goKIoyJQi...</td>\n",
       "    </tr>\n",
       "    <tr>\n",
       "      <th>1</th>\n",
       "      <td>4s7LxMlh6RxgdMhldfMe8u</td>\n",
       "      <td>Funk de Beleza</td>\n",
       "      <td>2024-10-04</td>\n",
       "      <td>3</td>\n",
       "      <td>https://open.spotify.com/album/4s7LxMlh6RxgdMh...</td>\n",
       "    </tr>\n",
       "    <tr>\n",
       "      <th>2</th>\n",
       "      <td>5D17Gk0J7jPXLvWMszqijF</td>\n",
       "      <td>MONTAGEM TOMADA</td>\n",
       "      <td>2025-03-21</td>\n",
       "      <td>4</td>\n",
       "      <td>https://open.spotify.com/album/5D17Gk0J7jPXLvW...</td>\n",
       "    </tr>\n",
       "    <tr>\n",
       "      <th>3</th>\n",
       "      <td>6dNugoBYWvUDQDtLurImhw</td>\n",
       "      <td>X-TALI</td>\n",
       "      <td>2024-08-23</td>\n",
       "      <td>1</td>\n",
       "      <td>https://open.spotify.com/album/6dNugoBYWvUDQDt...</td>\n",
       "    </tr>\n",
       "    <tr>\n",
       "      <th>4</th>\n",
       "      <td>0XoyJmD8cp3L8ixHoW3lB6</td>\n",
       "      <td>MONTAGEM CONTIGO</td>\n",
       "      <td>2025-04-04</td>\n",
       "      <td>4</td>\n",
       "      <td>https://open.spotify.com/album/0XoyJmD8cp3L8ix...</td>\n",
       "    </tr>\n",
       "  </tbody>\n",
       "</table>\n",
       "</div>"
      ],
      "text/plain": [
       "                 album_id        album_name album_release_date  \\\n",
       "0  6xUYw5goKIoyJQi9C27UBy       NUNCA MUDA?         2025-01-09   \n",
       "1  4s7LxMlh6RxgdMhldfMe8u    Funk de Beleza         2024-10-04   \n",
       "2  5D17Gk0J7jPXLvWMszqijF   MONTAGEM TOMADA         2025-03-21   \n",
       "3  6dNugoBYWvUDQDtLurImhw            X-TALI         2024-08-23   \n",
       "4  0XoyJmD8cp3L8ixHoW3lB6  MONTAGEM CONTIGO         2025-04-04   \n",
       "\n",
       "   album_total_tracks                                album_external_urls  \n",
       "0                   6  https://open.spotify.com/album/6xUYw5goKIoyJQi...  \n",
       "1                   3  https://open.spotify.com/album/4s7LxMlh6RxgdMh...  \n",
       "2                   4  https://open.spotify.com/album/5D17Gk0J7jPXLvW...  \n",
       "3                   1  https://open.spotify.com/album/6dNugoBYWvUDQDt...  \n",
       "4                   4  https://open.spotify.com/album/0XoyJmD8cp3L8ix...  "
      ]
     },
     "execution_count": 86,
     "metadata": {},
     "output_type": "execute_result"
    }
   ],
   "source": [
    "album_df.head()"
   ]
  },
  {
   "cell_type": "code",
   "execution_count": 87,
   "id": "9aa9dbb9-5292-493c-9854-1cdf492e4b93",
   "metadata": {},
   "outputs": [],
   "source": [
    "album_df = album_df.drop_duplicates(subset = ['album_id'])"
   ]
  },
  {
   "cell_type": "code",
   "execution_count": 88,
   "id": "80d197a2-bc71-446e-81e5-bc35726577b4",
   "metadata": {},
   "outputs": [],
   "source": [
    "artist_df = pd.DataFrame.from_dict(artist_list)"
   ]
  },
  {
   "cell_type": "code",
   "execution_count": 89,
   "id": "339d80bd-9982-4ab7-8c85-4169452eef5b",
   "metadata": {},
   "outputs": [
    {
     "data": {
      "text/html": [
       "<div>\n",
       "<style scoped>\n",
       "    .dataframe tbody tr th:only-of-type {\n",
       "        vertical-align: middle;\n",
       "    }\n",
       "\n",
       "    .dataframe tbody tr th {\n",
       "        vertical-align: top;\n",
       "    }\n",
       "\n",
       "    .dataframe thead th {\n",
       "        text-align: right;\n",
       "    }\n",
       "</style>\n",
       "<table border=\"1\" class=\"dataframe\">\n",
       "  <thead>\n",
       "    <tr style=\"text-align: right;\">\n",
       "      <th></th>\n",
       "      <th>artist_id</th>\n",
       "      <th>artist_name</th>\n",
       "      <th>external_url</th>\n",
       "    </tr>\n",
       "  </thead>\n",
       "  <tbody>\n",
       "    <tr>\n",
       "      <th>0</th>\n",
       "      <td>5dDNNq04RjKXFOADdHd6VX</td>\n",
       "      <td>Scythermane</td>\n",
       "      <td>https://api.spotify.com/v1/artists/5dDNNq04RjK...</td>\n",
       "    </tr>\n",
       "    <tr>\n",
       "      <th>1</th>\n",
       "      <td>7lAaAGxYxk2GH8cMbTEwAL</td>\n",
       "      <td>NXGHT!</td>\n",
       "      <td>https://api.spotify.com/v1/artists/7lAaAGxYxk2...</td>\n",
       "    </tr>\n",
       "    <tr>\n",
       "      <th>2</th>\n",
       "      <td>14hsjenLEdvafsGkk2CEiF</td>\n",
       "      <td>MC Fabinho da Osk</td>\n",
       "      <td>https://api.spotify.com/v1/artists/14hsjenLEdv...</td>\n",
       "    </tr>\n",
       "    <tr>\n",
       "      <th>3</th>\n",
       "      <td>3g0UoyvaTaHUrfpHiRqsD1</td>\n",
       "      <td>Nateki</td>\n",
       "      <td>https://api.spotify.com/v1/artists/3g0UoyvaTaH...</td>\n",
       "    </tr>\n",
       "    <tr>\n",
       "      <th>4</th>\n",
       "      <td>5dDNNq04RjKXFOADdHd6VX</td>\n",
       "      <td>Scythermane</td>\n",
       "      <td>https://api.spotify.com/v1/artists/5dDNNq04RjK...</td>\n",
       "    </tr>\n",
       "  </tbody>\n",
       "</table>\n",
       "</div>"
      ],
      "text/plain": [
       "                artist_id        artist_name  \\\n",
       "0  5dDNNq04RjKXFOADdHd6VX        Scythermane   \n",
       "1  7lAaAGxYxk2GH8cMbTEwAL             NXGHT!   \n",
       "2  14hsjenLEdvafsGkk2CEiF  MC Fabinho da Osk   \n",
       "3  3g0UoyvaTaHUrfpHiRqsD1             Nateki   \n",
       "4  5dDNNq04RjKXFOADdHd6VX        Scythermane   \n",
       "\n",
       "                                        external_url  \n",
       "0  https://api.spotify.com/v1/artists/5dDNNq04RjK...  \n",
       "1  https://api.spotify.com/v1/artists/7lAaAGxYxk2...  \n",
       "2  https://api.spotify.com/v1/artists/14hsjenLEdv...  \n",
       "3  https://api.spotify.com/v1/artists/3g0UoyvaTaH...  \n",
       "4  https://api.spotify.com/v1/artists/5dDNNq04RjK...  "
      ]
     },
     "execution_count": 89,
     "metadata": {},
     "output_type": "execute_result"
    }
   ],
   "source": [
    "artist_df.head"
   ]
  },
  {
   "cell_type": "code",
   "execution_count": 91,
   "id": "3ceaf459-b8df-498e-9f09-cb4c21b16ce7",
   "metadata": {},
   "outputs": [],
   "source": [
    "artist_df = artist_df.drop_duplicates(subset = ['artist_id'])"
   ]
  },
  {
   "cell_type": "code",
   "execution_count": 93,
   "id": "689e1e5c-4cc6-4e91-969c-f9aae713dbbf",
   "metadata": {},
   "outputs": [],
   "source": [
    "song_df = pd.DataFrame.from_dict(song_list)"
   ]
  },
  {
   "cell_type": "code",
   "execution_count": 94,
   "id": "87e18bbf-4b21-46ed-ad0b-2711de216d57",
   "metadata": {},
   "outputs": [
    {
     "data": {
      "text/html": [
       "<div>\n",
       "<style scoped>\n",
       "    .dataframe tbody tr th:only-of-type {\n",
       "        vertical-align: middle;\n",
       "    }\n",
       "\n",
       "    .dataframe tbody tr th {\n",
       "        vertical-align: top;\n",
       "    }\n",
       "\n",
       "    .dataframe thead th {\n",
       "        text-align: right;\n",
       "    }\n",
       "</style>\n",
       "<table border=\"1\" class=\"dataframe\">\n",
       "  <thead>\n",
       "    <tr style=\"text-align: right;\">\n",
       "      <th></th>\n",
       "      <th>song_id</th>\n",
       "      <th>song_name</th>\n",
       "      <th>song_duration</th>\n",
       "      <th>song_url</th>\n",
       "      <th>song_popularity</th>\n",
       "      <th>song_added</th>\n",
       "      <th>album_id</th>\n",
       "      <th>artist_id</th>\n",
       "    </tr>\n",
       "  </thead>\n",
       "  <tbody>\n",
       "    <tr>\n",
       "      <th>0</th>\n",
       "      <td>5EIjpM1B1VsLoKvv2iwd0P</td>\n",
       "      <td>NUNCA MUDA?</td>\n",
       "      <td>81500</td>\n",
       "      <td>https://open.spotify.com/track/5EIjpM1B1VsLoKv...</td>\n",
       "      <td>86</td>\n",
       "      <td>2025-03-07T07:49:17Z</td>\n",
       "      <td>6xUYw5goKIoyJQi9C27UBy</td>\n",
       "      <td>5dDNNq04RjKXFOADdHd6VX</td>\n",
       "    </tr>\n",
       "    <tr>\n",
       "      <th>1</th>\n",
       "      <td>43jExF2HeZ6cJIGrWF0ie4</td>\n",
       "      <td>Funk de Beleza - Slowed</td>\n",
       "      <td>145115</td>\n",
       "      <td>https://open.spotify.com/track/43jExF2HeZ6cJIG...</td>\n",
       "      <td>85</td>\n",
       "      <td>2025-03-07T07:49:21Z</td>\n",
       "      <td>4s7LxMlh6RxgdMhldfMe8u</td>\n",
       "      <td>3g0UoyvaTaHUrfpHiRqsD1</td>\n",
       "    </tr>\n",
       "    <tr>\n",
       "      <th>2</th>\n",
       "      <td>1mfvWzF39LwVpAm8g0LhQT</td>\n",
       "      <td>MONTAGEM TOMADA - Slowed</td>\n",
       "      <td>84901</td>\n",
       "      <td>https://open.spotify.com/track/1mfvWzF39LwVpAm...</td>\n",
       "      <td>62</td>\n",
       "      <td>2025-04-10T07:43:26Z</td>\n",
       "      <td>5D17Gk0J7jPXLvWMszqijF</td>\n",
       "      <td>7kk9ucvRJim0NMM89Lml2Y</td>\n",
       "    </tr>\n",
       "    <tr>\n",
       "      <th>3</th>\n",
       "      <td>6yIkBXij6NSjmRGRpQupqO</td>\n",
       "      <td>X-TALI</td>\n",
       "      <td>72352</td>\n",
       "      <td>https://open.spotify.com/track/6yIkBXij6NSjmRG...</td>\n",
       "      <td>74</td>\n",
       "      <td>2025-03-07T07:52:21Z</td>\n",
       "      <td>6dNugoBYWvUDQDtLurImhw</td>\n",
       "      <td>7qIgmxSjoXEeifSVDh8nIt</td>\n",
       "    </tr>\n",
       "    <tr>\n",
       "      <th>4</th>\n",
       "      <td>38eZ1H5Mpr4YanTn5kY8JD</td>\n",
       "      <td>MONTAGEM CONTIGO</td>\n",
       "      <td>96808</td>\n",
       "      <td>https://open.spotify.com/track/38eZ1H5Mpr4YanT...</td>\n",
       "      <td>75</td>\n",
       "      <td>2025-05-28T08:50:02Z</td>\n",
       "      <td>0XoyJmD8cp3L8ixHoW3lB6</td>\n",
       "      <td>0jrirfCZkRU3iA2sH9JEko</td>\n",
       "    </tr>\n",
       "  </tbody>\n",
       "</table>\n",
       "</div>"
      ],
      "text/plain": [
       "                  song_id                 song_name  song_duration  \\\n",
       "0  5EIjpM1B1VsLoKvv2iwd0P               NUNCA MUDA?          81500   \n",
       "1  43jExF2HeZ6cJIGrWF0ie4   Funk de Beleza - Slowed         145115   \n",
       "2  1mfvWzF39LwVpAm8g0LhQT  MONTAGEM TOMADA - Slowed          84901   \n",
       "3  6yIkBXij6NSjmRGRpQupqO                    X-TALI          72352   \n",
       "4  38eZ1H5Mpr4YanTn5kY8JD          MONTAGEM CONTIGO          96808   \n",
       "\n",
       "                                            song_url  song_popularity  \\\n",
       "0  https://open.spotify.com/track/5EIjpM1B1VsLoKv...               86   \n",
       "1  https://open.spotify.com/track/43jExF2HeZ6cJIG...               85   \n",
       "2  https://open.spotify.com/track/1mfvWzF39LwVpAm...               62   \n",
       "3  https://open.spotify.com/track/6yIkBXij6NSjmRG...               74   \n",
       "4  https://open.spotify.com/track/38eZ1H5Mpr4YanT...               75   \n",
       "\n",
       "             song_added                album_id               artist_id  \n",
       "0  2025-03-07T07:49:17Z  6xUYw5goKIoyJQi9C27UBy  5dDNNq04RjKXFOADdHd6VX  \n",
       "1  2025-03-07T07:49:21Z  4s7LxMlh6RxgdMhldfMe8u  3g0UoyvaTaHUrfpHiRqsD1  \n",
       "2  2025-04-10T07:43:26Z  5D17Gk0J7jPXLvWMszqijF  7kk9ucvRJim0NMM89Lml2Y  \n",
       "3  2025-03-07T07:52:21Z  6dNugoBYWvUDQDtLurImhw  7qIgmxSjoXEeifSVDh8nIt  \n",
       "4  2025-05-28T08:50:02Z  0XoyJmD8cp3L8ixHoW3lB6  0jrirfCZkRU3iA2sH9JEko  "
      ]
     },
     "execution_count": 94,
     "metadata": {},
     "output_type": "execute_result"
    }
   ],
   "source": [
    "song_df.head()"
   ]
  },
  {
   "cell_type": "code",
   "execution_count": 95,
   "id": "efc7c286-85f0-4be9-bb88-2a42a87b8f45",
   "metadata": {},
   "outputs": [],
   "source": [
    "song_df = song_df.drop_duplicates(subset = ['song_id'])"
   ]
  },
  {
   "cell_type": "code",
   "execution_count": 96,
   "id": "c7ba42e4-d073-45c7-b2c0-b75b9359ae8e",
   "metadata": {},
   "outputs": [],
   "source": [
    "album_df['album_release_date'] = pd.to_datetime(album_df['album_release_date'])"
   ]
  },
  {
   "cell_type": "code",
   "execution_count": 97,
   "id": "4445f1b8-b6d2-4d67-828d-d61aec76b927",
   "metadata": {},
   "outputs": [
    {
     "name": "stdout",
     "output_type": "stream",
     "text": [
      "<class 'pandas.core.frame.DataFrame'>\n",
      "RangeIndex: 68 entries, 0 to 67\n",
      "Data columns (total 5 columns):\n",
      " #   Column               Non-Null Count  Dtype         \n",
      "---  ------               --------------  -----         \n",
      " 0   album_id             68 non-null     object        \n",
      " 1   album_name           68 non-null     object        \n",
      " 2   album_release_date   68 non-null     datetime64[ns]\n",
      " 3   album_total_tracks   68 non-null     int64         \n",
      " 4   album_external_urls  68 non-null     object        \n",
      "dtypes: datetime64[ns](1), int64(1), object(3)\n",
      "memory usage: 2.8+ KB\n"
     ]
    }
   ],
   "source": [
    "album_df.info()"
   ]
  },
  {
   "cell_type": "code",
   "execution_count": 98,
   "id": "98f1b8b9-11cd-47af-a41b-757d84ff31fd",
   "metadata": {},
   "outputs": [],
   "source": [
    "song_df['song_added'] = pd.to_datetime(song_df['song_added'])"
   ]
  },
  {
   "cell_type": "code",
   "execution_count": 100,
   "id": "3eccb9c8-3041-44c9-a0bb-e2471118111f",
   "metadata": {},
   "outputs": [
    {
     "name": "stdout",
     "output_type": "stream",
     "text": [
      "<class 'pandas.core.frame.DataFrame'>\n",
      "RangeIndex: 68 entries, 0 to 67\n",
      "Data columns (total 8 columns):\n",
      " #   Column           Non-Null Count  Dtype              \n",
      "---  ------           --------------  -----              \n",
      " 0   song_id          68 non-null     object             \n",
      " 1   song_name        68 non-null     object             \n",
      " 2   song_duration    68 non-null     int64              \n",
      " 3   song_url         68 non-null     object             \n",
      " 4   song_popularity  68 non-null     int64              \n",
      " 5   song_added       68 non-null     datetime64[ns, UTC]\n",
      " 6   album_id         68 non-null     object             \n",
      " 7   artist_id        68 non-null     object             \n",
      "dtypes: datetime64[ns, UTC](1), int64(2), object(5)\n",
      "memory usage: 4.4+ KB\n"
     ]
    }
   ],
   "source": [
    "song_df.info()"
   ]
  },
  {
   "cell_type": "code",
   "execution_count": null,
   "id": "153b11fc-4ba7-46bd-b7dc-f9caf681883d",
   "metadata": {},
   "outputs": [],
   "source": []
  }
 ],
 "metadata": {
  "kernelspec": {
   "display_name": "Python 3 (ipykernel)",
   "language": "python",
   "name": "python3"
  },
  "language_info": {
   "codemirror_mode": {
    "name": "ipython",
    "version": 3
   },
   "file_extension": ".py",
   "mimetype": "text/x-python",
   "name": "python",
   "nbconvert_exporter": "python",
   "pygments_lexer": "ipython3",
   "version": "3.13.1"
  }
 },
 "nbformat": 4,
 "nbformat_minor": 5
}
